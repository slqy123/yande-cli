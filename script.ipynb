{
 "cells": [
  {
   "cell_type": "code",
   "execution_count": 11,
   "metadata": {
    "collapsed": true
   },
   "outputs": [],
   "source": [
    "from sqlalchemy import create_engine, Column, Integer, Text, ForeignKey, Date, Boolean\n",
    "from sqlalchemy.orm import sessionmaker, relationship\n",
    "from sqlalchemy.ext.declarative import declarative_base\n",
    "import os\n",
    "# from os import path\n",
    "# DB_PATH = path.split(__file__)[0] + '/test.db'\n",
    "\n",
    "Base = declarative_base()\n",
    "engine = create_engine(f'sqlite:///data.db')\n",
    "ss = sessionmaker(bind=engine)()"
   ]
  },
  {
   "cell_type": "code",
   "execution_count": 13,
   "outputs": [
    {
     "name": "stderr",
     "output_type": "stream",
     "text": [
      "C:\\Users\\20577\\AppData\\Local\\Temp\\ipykernel_11460\\1478744355.py:1: SAWarning: This declarative base already contains a class with the same class name and module name as __main__.Image, and will be replaced in the string-lookup table.\n",
      "  class Image(Base):\n"
     ]
    },
    {
     "ename": "InvalidRequestError",
     "evalue": "Table 'image' is already defined for this MetaData instance.  Specify 'extend_existing=True' to redefine options and columns on an existing Table object.",
     "output_type": "error",
     "traceback": [
      "\u001B[1;31m---------------------------------------------------------------------------\u001B[0m",
      "\u001B[1;31mInvalidRequestError\u001B[0m                       Traceback (most recent call last)",
      "Cell \u001B[1;32mIn [13], line 1\u001B[0m\n\u001B[1;32m----> 1\u001B[0m \u001B[38;5;28;01mclass\u001B[39;00m \u001B[38;5;21;01mImage\u001B[39;00m(Base):\n\u001B[0;32m      2\u001B[0m     __tablename__ \u001B[38;5;241m=\u001B[39m \u001B[38;5;124m'\u001B[39m\u001B[38;5;124mimage\u001B[39m\u001B[38;5;124m'\u001B[39m\n\u001B[0;32m      3\u001B[0m     \u001B[38;5;28mid\u001B[39m \u001B[38;5;241m=\u001B[39m Column(Integer, primary_key\u001B[38;5;241m=\u001B[39m\u001B[38;5;28;01mTrue\u001B[39;00m)\n",
      "File \u001B[1;32m~\\scoop\\apps\\anaconda3\\current\\envs\\flask\\lib\\site-packages\\sqlalchemy\\orm\\decl_api.py:72\u001B[0m, in \u001B[0;36mDeclarativeMeta.__init__\u001B[1;34m(cls, classname, bases, dict_, **kw)\u001B[0m\n\u001B[0;32m     69\u001B[0m         \u001B[38;5;28mcls\u001B[39m\u001B[38;5;241m.\u001B[39m_sa_registry \u001B[38;5;241m=\u001B[39m reg\n\u001B[0;32m     71\u001B[0m \u001B[38;5;28;01mif\u001B[39;00m \u001B[38;5;129;01mnot\u001B[39;00m \u001B[38;5;28mcls\u001B[39m\u001B[38;5;241m.\u001B[39m\u001B[38;5;18m__dict__\u001B[39m\u001B[38;5;241m.\u001B[39mget(\u001B[38;5;124m\"\u001B[39m\u001B[38;5;124m__abstract__\u001B[39m\u001B[38;5;124m\"\u001B[39m, \u001B[38;5;28;01mFalse\u001B[39;00m):\n\u001B[1;32m---> 72\u001B[0m     \u001B[43m_as_declarative\u001B[49m\u001B[43m(\u001B[49m\u001B[43mreg\u001B[49m\u001B[43m,\u001B[49m\u001B[43m \u001B[49m\u001B[38;5;28;43mcls\u001B[39;49m\u001B[43m,\u001B[49m\u001B[43m \u001B[49m\u001B[43mdict_\u001B[49m\u001B[43m)\u001B[49m\n\u001B[0;32m     73\u001B[0m \u001B[38;5;28mtype\u001B[39m\u001B[38;5;241m.\u001B[39m\u001B[38;5;21m__init__\u001B[39m(\u001B[38;5;28mcls\u001B[39m, classname, bases, dict_)\n",
      "File \u001B[1;32m~\\scoop\\apps\\anaconda3\\current\\envs\\flask\\lib\\site-packages\\sqlalchemy\\orm\\decl_base.py:126\u001B[0m, in \u001B[0;36m_as_declarative\u001B[1;34m(registry, cls, dict_)\u001B[0m\n\u001B[0;32m    121\u001B[0m \u001B[38;5;28;01mdef\u001B[39;00m \u001B[38;5;21m_as_declarative\u001B[39m(registry, \u001B[38;5;28mcls\u001B[39m, dict_):\n\u001B[0;32m    122\u001B[0m \n\u001B[0;32m    123\u001B[0m     \u001B[38;5;66;03m# declarative scans the class for attributes.  no table or mapper\u001B[39;00m\n\u001B[0;32m    124\u001B[0m     \u001B[38;5;66;03m# args passed separately.\u001B[39;00m\n\u001B[1;32m--> 126\u001B[0m     \u001B[38;5;28;01mreturn\u001B[39;00m \u001B[43m_MapperConfig\u001B[49m\u001B[38;5;241;43m.\u001B[39;49m\u001B[43msetup_mapping\u001B[49m\u001B[43m(\u001B[49m\u001B[43mregistry\u001B[49m\u001B[43m,\u001B[49m\u001B[43m \u001B[49m\u001B[38;5;28;43mcls\u001B[39;49m\u001B[43m,\u001B[49m\u001B[43m \u001B[49m\u001B[43mdict_\u001B[49m\u001B[43m,\u001B[49m\u001B[43m \u001B[49m\u001B[38;5;28;43;01mNone\u001B[39;49;00m\u001B[43m,\u001B[49m\u001B[43m \u001B[49m\u001B[43m{\u001B[49m\u001B[43m}\u001B[49m\u001B[43m)\u001B[49m\n",
      "File \u001B[1;32m~\\scoop\\apps\\anaconda3\\current\\envs\\flask\\lib\\site-packages\\sqlalchemy\\orm\\decl_base.py:177\u001B[0m, in \u001B[0;36m_MapperConfig.setup_mapping\u001B[1;34m(cls, registry, cls_, dict_, table, mapper_kw)\u001B[0m\n\u001B[0;32m    174\u001B[0m \u001B[38;5;28;01melse\u001B[39;00m:\n\u001B[0;32m    175\u001B[0m     cfg_cls \u001B[38;5;241m=\u001B[39m _ClassScanMapperConfig\n\u001B[1;32m--> 177\u001B[0m \u001B[38;5;28;01mreturn\u001B[39;00m \u001B[43mcfg_cls\u001B[49m\u001B[43m(\u001B[49m\u001B[43mregistry\u001B[49m\u001B[43m,\u001B[49m\u001B[43m \u001B[49m\u001B[43mcls_\u001B[49m\u001B[43m,\u001B[49m\u001B[43m \u001B[49m\u001B[43mdict_\u001B[49m\u001B[43m,\u001B[49m\u001B[43m \u001B[49m\u001B[43mtable\u001B[49m\u001B[43m,\u001B[49m\u001B[43m \u001B[49m\u001B[43mmapper_kw\u001B[49m\u001B[43m)\u001B[49m\n",
      "File \u001B[1;32m~\\scoop\\apps\\anaconda3\\current\\envs\\flask\\lib\\site-packages\\sqlalchemy\\orm\\decl_base.py:322\u001B[0m, in \u001B[0;36m_ClassScanMapperConfig.__init__\u001B[1;34m(self, registry, cls_, dict_, table, mapper_kw)\u001B[0m\n\u001B[0;32m    318\u001B[0m \u001B[38;5;28mself\u001B[39m\u001B[38;5;241m.\u001B[39m_extract_mappable_attributes()\n\u001B[0;32m    320\u001B[0m \u001B[38;5;28mself\u001B[39m\u001B[38;5;241m.\u001B[39m_extract_declared_columns()\n\u001B[1;32m--> 322\u001B[0m \u001B[38;5;28;43mself\u001B[39;49m\u001B[38;5;241;43m.\u001B[39;49m\u001B[43m_setup_table\u001B[49m\u001B[43m(\u001B[49m\u001B[43mtable\u001B[49m\u001B[43m)\u001B[49m\n\u001B[0;32m    324\u001B[0m \u001B[38;5;28mself\u001B[39m\u001B[38;5;241m.\u001B[39m_setup_inheritance(mapper_kw)\n\u001B[0;32m    326\u001B[0m \u001B[38;5;28mself\u001B[39m\u001B[38;5;241m.\u001B[39m_early_mapping(mapper_kw)\n",
      "File \u001B[1;32m~\\scoop\\apps\\anaconda3\\current\\envs\\flask\\lib\\site-packages\\sqlalchemy\\orm\\decl_base.py:811\u001B[0m, in \u001B[0;36m_ClassScanMapperConfig._setup_table\u001B[1;34m(self, table)\u001B[0m\n\u001B[0;32m    806\u001B[0m         \u001B[38;5;28;01mif\u001B[39;00m autoload:\n\u001B[0;32m    807\u001B[0m             table_kw[\u001B[38;5;124m\"\u001B[39m\u001B[38;5;124mautoload\u001B[39m\u001B[38;5;124m\"\u001B[39m] \u001B[38;5;241m=\u001B[39m \u001B[38;5;28;01mTrue\u001B[39;00m\n\u001B[0;32m    809\u001B[0m         table \u001B[38;5;241m=\u001B[39m \u001B[38;5;28mself\u001B[39m\u001B[38;5;241m.\u001B[39mset_cls_attribute(\n\u001B[0;32m    810\u001B[0m             \u001B[38;5;124m\"\u001B[39m\u001B[38;5;124m__table__\u001B[39m\u001B[38;5;124m\"\u001B[39m,\n\u001B[1;32m--> 811\u001B[0m             \u001B[43mtable_cls\u001B[49m\u001B[43m(\u001B[49m\n\u001B[0;32m    812\u001B[0m \u001B[43m                \u001B[49m\u001B[43mtablename\u001B[49m\u001B[43m,\u001B[49m\n\u001B[0;32m    813\u001B[0m \u001B[43m                \u001B[49m\u001B[38;5;28;43mself\u001B[39;49m\u001B[38;5;241;43m.\u001B[39;49m\u001B[43m_metadata_for_cls\u001B[49m\u001B[43m(\u001B[49m\u001B[43mmanager\u001B[49m\u001B[43m)\u001B[49m\u001B[43m,\u001B[49m\n\u001B[0;32m    814\u001B[0m \u001B[43m                \u001B[49m\u001B[38;5;241;43m*\u001B[39;49m\u001B[43m(\u001B[49m\u001B[38;5;28;43mtuple\u001B[39;49m\u001B[43m(\u001B[49m\u001B[43mdeclared_columns\u001B[49m\u001B[43m)\u001B[49m\u001B[43m \u001B[49m\u001B[38;5;241;43m+\u001B[39;49m\u001B[43m \u001B[49m\u001B[38;5;28;43mtuple\u001B[39;49m\u001B[43m(\u001B[49m\u001B[43margs\u001B[49m\u001B[43m)\u001B[49m\u001B[43m)\u001B[49m\u001B[43m,\u001B[49m\n\u001B[0;32m    815\u001B[0m \u001B[43m                \u001B[49m\u001B[38;5;241;43m*\u001B[39;49m\u001B[38;5;241;43m*\u001B[39;49m\u001B[43mtable_kw\u001B[49m\n\u001B[0;32m    816\u001B[0m \u001B[43m            \u001B[49m\u001B[43m)\u001B[49m,\n\u001B[0;32m    817\u001B[0m         )\n\u001B[0;32m    818\u001B[0m \u001B[38;5;28;01melse\u001B[39;00m:\n\u001B[0;32m    819\u001B[0m     \u001B[38;5;28;01mif\u001B[39;00m table \u001B[38;5;129;01mis\u001B[39;00m \u001B[38;5;28;01mNone\u001B[39;00m:\n",
      "File \u001B[1;32m<string>:2\u001B[0m, in \u001B[0;36m__new__\u001B[1;34m(cls, *args, **kw)\u001B[0m\n",
      "File \u001B[1;32m~\\scoop\\apps\\anaconda3\\current\\envs\\flask\\lib\\site-packages\\sqlalchemy\\util\\deprecations.py:309\u001B[0m, in \u001B[0;36mdeprecated_params.<locals>.decorate.<locals>.warned\u001B[1;34m(fn, *args, **kwargs)\u001B[0m\n\u001B[0;32m    302\u001B[0m     \u001B[38;5;28;01mif\u001B[39;00m m \u001B[38;5;129;01min\u001B[39;00m kwargs:\n\u001B[0;32m    303\u001B[0m         _warn_with_version(\n\u001B[0;32m    304\u001B[0m             messages[m],\n\u001B[0;32m    305\u001B[0m             versions[m],\n\u001B[0;32m    306\u001B[0m             version_warnings[m],\n\u001B[0;32m    307\u001B[0m             stacklevel\u001B[38;5;241m=\u001B[39m\u001B[38;5;241m3\u001B[39m,\n\u001B[0;32m    308\u001B[0m         )\n\u001B[1;32m--> 309\u001B[0m \u001B[38;5;28;01mreturn\u001B[39;00m \u001B[43mfn\u001B[49m\u001B[43m(\u001B[49m\u001B[38;5;241;43m*\u001B[39;49m\u001B[43margs\u001B[49m\u001B[43m,\u001B[49m\u001B[43m \u001B[49m\u001B[38;5;241;43m*\u001B[39;49m\u001B[38;5;241;43m*\u001B[39;49m\u001B[43mkwargs\u001B[49m\u001B[43m)\u001B[49m\n",
      "File \u001B[1;32m~\\scoop\\apps\\anaconda3\\current\\envs\\flask\\lib\\site-packages\\sqlalchemy\\sql\\schema.py:584\u001B[0m, in \u001B[0;36mTable.__new__\u001B[1;34m(cls, *args, **kw)\u001B[0m\n\u001B[0;32m    582\u001B[0m \u001B[38;5;28;01mif\u001B[39;00m key \u001B[38;5;129;01min\u001B[39;00m metadata\u001B[38;5;241m.\u001B[39mtables:\n\u001B[0;32m    583\u001B[0m     \u001B[38;5;28;01mif\u001B[39;00m \u001B[38;5;129;01mnot\u001B[39;00m keep_existing \u001B[38;5;129;01mand\u001B[39;00m \u001B[38;5;129;01mnot\u001B[39;00m extend_existing \u001B[38;5;129;01mand\u001B[39;00m \u001B[38;5;28mbool\u001B[39m(args):\n\u001B[1;32m--> 584\u001B[0m         \u001B[38;5;28;01mraise\u001B[39;00m exc\u001B[38;5;241m.\u001B[39mInvalidRequestError(\n\u001B[0;32m    585\u001B[0m             \u001B[38;5;124m\"\u001B[39m\u001B[38;5;124mTable \u001B[39m\u001B[38;5;124m'\u001B[39m\u001B[38;5;132;01m%s\u001B[39;00m\u001B[38;5;124m'\u001B[39m\u001B[38;5;124m is already defined for this MetaData \u001B[39m\u001B[38;5;124m\"\u001B[39m\n\u001B[0;32m    586\u001B[0m             \u001B[38;5;124m\"\u001B[39m\u001B[38;5;124minstance.  Specify \u001B[39m\u001B[38;5;124m'\u001B[39m\u001B[38;5;124mextend_existing=True\u001B[39m\u001B[38;5;124m'\u001B[39m\u001B[38;5;124m \u001B[39m\u001B[38;5;124m\"\u001B[39m\n\u001B[0;32m    587\u001B[0m             \u001B[38;5;124m\"\u001B[39m\u001B[38;5;124mto redefine \u001B[39m\u001B[38;5;124m\"\u001B[39m\n\u001B[0;32m    588\u001B[0m             \u001B[38;5;124m\"\u001B[39m\u001B[38;5;124moptions and columns on an \u001B[39m\u001B[38;5;124m\"\u001B[39m\n\u001B[0;32m    589\u001B[0m             \u001B[38;5;124m\"\u001B[39m\u001B[38;5;124mexisting Table object.\u001B[39m\u001B[38;5;124m\"\u001B[39m \u001B[38;5;241m%\u001B[39m key\n\u001B[0;32m    590\u001B[0m         )\n\u001B[0;32m    591\u001B[0m     table \u001B[38;5;241m=\u001B[39m metadata\u001B[38;5;241m.\u001B[39mtables[key]\n\u001B[0;32m    592\u001B[0m     \u001B[38;5;28;01mif\u001B[39;00m extend_existing:\n",
      "\u001B[1;31mInvalidRequestError\u001B[0m: Table 'image' is already defined for this MetaData instance.  Specify 'extend_existing=True' to redefine options and columns on an existing Table object."
     ]
    }
   ],
   "source": [
    "class Image(Base):\n",
    "    __tablename__ = 'image'\n",
    "    id = Column(Integer, primary_key=True)\n",
    "    name = Column(Text, unique=True)\n",
    "    rtags = relationship('Tag', secondary='images2tags', backref='Images')\n",
    "    star = Column(Integer, default=0)\n",
    "    count = Column(Integer, default=0)\n",
    "    file_url = Column(Text, default='')\n",
    "    history_id = Column(Integer, ForeignKey('history.id'), default=0)\n",
    "    history = relationship('History', backref='images')\n",
    "    tags = Column(Text, default='')\n",
    "    last_update_date = Column(Date)\n",
    "    author = Column(Text)\n",
    "    creator_id = Column(Integer)\n",
    "    status = Column(Integer)\n",
    "\n",
    "\n",
    "class Tag(Base):\n",
    "    __tablename__ = 'tag'\n",
    "    id = Column(Integer, primary_key=True, autoincrement=True)\n",
    "    name = Column(Text, unique=True)\n",
    "\n",
    "\n",
    "class Images2Tags(Base):\n",
    "    __tablename__ = 'images2tags'\n",
    "    id = Column(Integer, primary_key=True, autoincrement=True)\n",
    "    game_id = Column(Integer, ForeignKey('image.id'))\n",
    "    tag_id = Column(Integer, ForeignKey('tag.id'))\n",
    "\n",
    "\n",
    "class History(Base):\n",
    "    __tablename__ = 'history'\n",
    "    id = Column(Integer, primary_key=True, autoincrement=True)\n",
    "    date = Column(Date)\n",
    "    start = Column(Integer)\n",
    "    end = Column(Integer)\n",
    "    amount = Column(Integer)\n",
    "    finish = Column(Boolean, default=False)\n",
    "    img_star = Column(Integer)\n",
    "Base.metadata.create_all(engine)"
   ],
   "metadata": {
    "collapsed": false
   }
  },
  {
   "cell_type": "code",
   "execution_count": 17,
   "outputs": [],
   "source": [
    "img = Image(id=2)\n",
    "ss.add(img)\n",
    "ss.commit()\n",
    "ss.close()"
   ],
   "metadata": {
    "collapsed": false
   }
  },
  {
   "cell_type": "code",
   "execution_count": 20,
   "outputs": [],
   "source": [
    "# Base.metadata.drop_all(engine)\n",
    "Base.metadata.create_all(engine)"
   ],
   "metadata": {
    "collapsed": false
   }
  },
  {
   "cell_type": "code",
   "execution_count": 4,
   "outputs": [],
   "source": [
    "from settings import *\n",
    "failed = []\n",
    "from os import path\n",
    "for img in ss.query(Image).filter(Image.star >= 0).all():\n",
    "    if not path.exists(path.join(IMG_PATH, img.name)):\n",
    "        failed.append(img)\n",
    "        print(img.id)"
   ],
   "metadata": {
    "collapsed": false
   }
  },
  {
   "cell_type": "code",
   "execution_count": 30,
   "outputs": [
    {
     "ename": "OperationalError",
     "evalue": "(sqlite3.OperationalError) no such function: rand\n[SQL: SELECT image.id AS image_id, image.name AS image_name, image.star AS image_star, image.count AS image_count, image.file_url AS image_file_url, image.history_id AS image_history_id, image.tags AS image_tags, image.last_update_date AS image_last_update_date, image.author AS image_author, image.creator_id AS image_creator_id \nFROM image ORDER BY rand()\n LIMIT ? OFFSET ?]\n[parameters: (1, 0)]\n(Background on this error at: https://sqlalche.me/e/14/e3q8)",
     "output_type": "error",
     "traceback": [
      "\u001B[1;31m---------------------------------------------------------------------------\u001B[0m",
      "\u001B[1;31mOperationalError\u001B[0m                          Traceback (most recent call last)",
      "File \u001B[1;32m~\\scoop\\apps\\anaconda3\\current\\envs\\flask\\lib\\site-packages\\sqlalchemy\\engine\\base.py:1808\u001B[0m, in \u001B[0;36mConnection._execute_context\u001B[1;34m(self, dialect, constructor, statement, parameters, execution_options, *args, **kw)\u001B[0m\n\u001B[0;32m   1807\u001B[0m     \u001B[38;5;28;01mif\u001B[39;00m \u001B[38;5;129;01mnot\u001B[39;00m evt_handled:\n\u001B[1;32m-> 1808\u001B[0m         \u001B[38;5;28;43mself\u001B[39;49m\u001B[38;5;241;43m.\u001B[39;49m\u001B[43mdialect\u001B[49m\u001B[38;5;241;43m.\u001B[39;49m\u001B[43mdo_execute\u001B[49m\u001B[43m(\u001B[49m\n\u001B[0;32m   1809\u001B[0m \u001B[43m            \u001B[49m\u001B[43mcursor\u001B[49m\u001B[43m,\u001B[49m\u001B[43m \u001B[49m\u001B[43mstatement\u001B[49m\u001B[43m,\u001B[49m\u001B[43m \u001B[49m\u001B[43mparameters\u001B[49m\u001B[43m,\u001B[49m\u001B[43m \u001B[49m\u001B[43mcontext\u001B[49m\n\u001B[0;32m   1810\u001B[0m \u001B[43m        \u001B[49m\u001B[43m)\u001B[49m\n\u001B[0;32m   1812\u001B[0m \u001B[38;5;28;01mif\u001B[39;00m \u001B[38;5;28mself\u001B[39m\u001B[38;5;241m.\u001B[39m_has_events \u001B[38;5;129;01mor\u001B[39;00m \u001B[38;5;28mself\u001B[39m\u001B[38;5;241m.\u001B[39mengine\u001B[38;5;241m.\u001B[39m_has_events:\n",
      "File \u001B[1;32m~\\scoop\\apps\\anaconda3\\current\\envs\\flask\\lib\\site-packages\\sqlalchemy\\engine\\default.py:732\u001B[0m, in \u001B[0;36mDefaultDialect.do_execute\u001B[1;34m(self, cursor, statement, parameters, context)\u001B[0m\n\u001B[0;32m    731\u001B[0m \u001B[38;5;28;01mdef\u001B[39;00m \u001B[38;5;21mdo_execute\u001B[39m(\u001B[38;5;28mself\u001B[39m, cursor, statement, parameters, context\u001B[38;5;241m=\u001B[39m\u001B[38;5;28;01mNone\u001B[39;00m):\n\u001B[1;32m--> 732\u001B[0m     \u001B[43mcursor\u001B[49m\u001B[38;5;241;43m.\u001B[39;49m\u001B[43mexecute\u001B[49m\u001B[43m(\u001B[49m\u001B[43mstatement\u001B[49m\u001B[43m,\u001B[49m\u001B[43m \u001B[49m\u001B[43mparameters\u001B[49m\u001B[43m)\u001B[49m\n",
      "\u001B[1;31mOperationalError\u001B[0m: no such function: rand",
      "\nThe above exception was the direct cause of the following exception:\n",
      "\u001B[1;31mOperationalError\u001B[0m                          Traceback (most recent call last)",
      "Cell \u001B[1;32mIn [30], line 2\u001B[0m\n\u001B[0;32m      1\u001B[0m \u001B[38;5;28;01mfrom\u001B[39;00m \u001B[38;5;21;01msqlalchemy\u001B[39;00m \u001B[38;5;28;01mimport\u001B[39;00m func\n\u001B[1;32m----> 2\u001B[0m r \u001B[38;5;241m=\u001B[39m \u001B[43mss\u001B[49m\u001B[38;5;241;43m.\u001B[39;49m\u001B[43mquery\u001B[49m\u001B[43m(\u001B[49m\u001B[43mImage\u001B[49m\u001B[43m)\u001B[49m\u001B[38;5;241;43m.\u001B[39;49m\u001B[43morder_by\u001B[49m\u001B[43m(\u001B[49m\u001B[43mfunc\u001B[49m\u001B[38;5;241;43m.\u001B[39;49m\u001B[43mrand\u001B[49m\u001B[43m(\u001B[49m\u001B[43m)\u001B[49m\u001B[43m)\u001B[49m\u001B[38;5;241;43m.\u001B[39;49m\u001B[43mfirst\u001B[49m\u001B[43m(\u001B[49m\u001B[43m)\u001B[49m\n\u001B[0;32m      3\u001B[0m r\u001B[38;5;241m.\u001B[39mid\n",
      "File \u001B[1;32m~\\scoop\\apps\\anaconda3\\current\\envs\\flask\\lib\\site-packages\\sqlalchemy\\orm\\query.py:2810\u001B[0m, in \u001B[0;36mQuery.first\u001B[1;34m(self)\u001B[0m\n\u001B[0;32m   2808\u001B[0m     \u001B[38;5;28;01mreturn\u001B[39;00m \u001B[38;5;28mself\u001B[39m\u001B[38;5;241m.\u001B[39m_iter()\u001B[38;5;241m.\u001B[39mfirst()\n\u001B[0;32m   2809\u001B[0m \u001B[38;5;28;01melse\u001B[39;00m:\n\u001B[1;32m-> 2810\u001B[0m     \u001B[38;5;28;01mreturn\u001B[39;00m \u001B[38;5;28;43mself\u001B[39;49m\u001B[38;5;241;43m.\u001B[39;49m\u001B[43mlimit\u001B[49m\u001B[43m(\u001B[49m\u001B[38;5;241;43m1\u001B[39;49m\u001B[43m)\u001B[49m\u001B[38;5;241;43m.\u001B[39;49m\u001B[43m_iter\u001B[49m\u001B[43m(\u001B[49m\u001B[43m)\u001B[49m\u001B[38;5;241m.\u001B[39mfirst()\n",
      "File \u001B[1;32m~\\scoop\\apps\\anaconda3\\current\\envs\\flask\\lib\\site-packages\\sqlalchemy\\orm\\query.py:2894\u001B[0m, in \u001B[0;36mQuery._iter\u001B[1;34m(self)\u001B[0m\n\u001B[0;32m   2891\u001B[0m params \u001B[38;5;241m=\u001B[39m \u001B[38;5;28mself\u001B[39m\u001B[38;5;241m.\u001B[39m_params\n\u001B[0;32m   2893\u001B[0m statement \u001B[38;5;241m=\u001B[39m \u001B[38;5;28mself\u001B[39m\u001B[38;5;241m.\u001B[39m_statement_20()\n\u001B[1;32m-> 2894\u001B[0m result \u001B[38;5;241m=\u001B[39m \u001B[38;5;28;43mself\u001B[39;49m\u001B[38;5;241;43m.\u001B[39;49m\u001B[43msession\u001B[49m\u001B[38;5;241;43m.\u001B[39;49m\u001B[43mexecute\u001B[49m\u001B[43m(\u001B[49m\n\u001B[0;32m   2895\u001B[0m \u001B[43m    \u001B[49m\u001B[43mstatement\u001B[49m\u001B[43m,\u001B[49m\n\u001B[0;32m   2896\u001B[0m \u001B[43m    \u001B[49m\u001B[43mparams\u001B[49m\u001B[43m,\u001B[49m\n\u001B[0;32m   2897\u001B[0m \u001B[43m    \u001B[49m\u001B[43mexecution_options\u001B[49m\u001B[38;5;241;43m=\u001B[39;49m\u001B[43m{\u001B[49m\u001B[38;5;124;43m\"\u001B[39;49m\u001B[38;5;124;43m_sa_orm_load_options\u001B[39;49m\u001B[38;5;124;43m\"\u001B[39;49m\u001B[43m:\u001B[49m\u001B[43m \u001B[49m\u001B[38;5;28;43mself\u001B[39;49m\u001B[38;5;241;43m.\u001B[39;49m\u001B[43mload_options\u001B[49m\u001B[43m}\u001B[49m\u001B[43m,\u001B[49m\n\u001B[0;32m   2898\u001B[0m \u001B[43m\u001B[49m\u001B[43m)\u001B[49m\n\u001B[0;32m   2900\u001B[0m \u001B[38;5;66;03m# legacy: automatically set scalars, unique\u001B[39;00m\n\u001B[0;32m   2901\u001B[0m \u001B[38;5;28;01mif\u001B[39;00m result\u001B[38;5;241m.\u001B[39m_attributes\u001B[38;5;241m.\u001B[39mget(\u001B[38;5;124m\"\u001B[39m\u001B[38;5;124mis_single_entity\u001B[39m\u001B[38;5;124m\"\u001B[39m, \u001B[38;5;28;01mFalse\u001B[39;00m):\n",
      "File \u001B[1;32m~\\scoop\\apps\\anaconda3\\current\\envs\\flask\\lib\\site-packages\\sqlalchemy\\orm\\session.py:1692\u001B[0m, in \u001B[0;36mSession.execute\u001B[1;34m(self, statement, params, execution_options, bind_arguments, _parent_execute_state, _add_event, **kw)\u001B[0m\n\u001B[0;32m   1690\u001B[0m \u001B[38;5;28;01melse\u001B[39;00m:\n\u001B[0;32m   1691\u001B[0m     conn \u001B[38;5;241m=\u001B[39m \u001B[38;5;28mself\u001B[39m\u001B[38;5;241m.\u001B[39m_connection_for_bind(bind)\n\u001B[1;32m-> 1692\u001B[0m result \u001B[38;5;241m=\u001B[39m \u001B[43mconn\u001B[49m\u001B[38;5;241;43m.\u001B[39;49m\u001B[43m_execute_20\u001B[49m\u001B[43m(\u001B[49m\u001B[43mstatement\u001B[49m\u001B[43m,\u001B[49m\u001B[43m \u001B[49m\u001B[43mparams\u001B[49m\u001B[43m \u001B[49m\u001B[38;5;129;43;01mor\u001B[39;49;00m\u001B[43m \u001B[49m\u001B[43m{\u001B[49m\u001B[43m}\u001B[49m\u001B[43m,\u001B[49m\u001B[43m \u001B[49m\u001B[43mexecution_options\u001B[49m\u001B[43m)\u001B[49m\n\u001B[0;32m   1694\u001B[0m \u001B[38;5;28;01mif\u001B[39;00m compile_state_cls:\n\u001B[0;32m   1695\u001B[0m     result \u001B[38;5;241m=\u001B[39m compile_state_cls\u001B[38;5;241m.\u001B[39morm_setup_cursor_result(\n\u001B[0;32m   1696\u001B[0m         \u001B[38;5;28mself\u001B[39m,\n\u001B[0;32m   1697\u001B[0m         statement,\n\u001B[1;32m   (...)\u001B[0m\n\u001B[0;32m   1701\u001B[0m         result,\n\u001B[0;32m   1702\u001B[0m     )\n",
      "File \u001B[1;32m~\\scoop\\apps\\anaconda3\\current\\envs\\flask\\lib\\site-packages\\sqlalchemy\\engine\\base.py:1620\u001B[0m, in \u001B[0;36mConnection._execute_20\u001B[1;34m(self, statement, parameters, execution_options)\u001B[0m\n\u001B[0;32m   1616\u001B[0m     util\u001B[38;5;241m.\u001B[39mraise_(\n\u001B[0;32m   1617\u001B[0m         exc\u001B[38;5;241m.\u001B[39mObjectNotExecutableError(statement), replace_context\u001B[38;5;241m=\u001B[39merr\n\u001B[0;32m   1618\u001B[0m     )\n\u001B[0;32m   1619\u001B[0m \u001B[38;5;28;01melse\u001B[39;00m:\n\u001B[1;32m-> 1620\u001B[0m     \u001B[38;5;28;01mreturn\u001B[39;00m \u001B[43mmeth\u001B[49m\u001B[43m(\u001B[49m\u001B[38;5;28;43mself\u001B[39;49m\u001B[43m,\u001B[49m\u001B[43m \u001B[49m\u001B[43margs_10style\u001B[49m\u001B[43m,\u001B[49m\u001B[43m \u001B[49m\u001B[43mkwargs_10style\u001B[49m\u001B[43m,\u001B[49m\u001B[43m \u001B[49m\u001B[43mexecution_options\u001B[49m\u001B[43m)\u001B[49m\n",
      "File \u001B[1;32m~\\scoop\\apps\\anaconda3\\current\\envs\\flask\\lib\\site-packages\\sqlalchemy\\sql\\elements.py:325\u001B[0m, in \u001B[0;36mClauseElement._execute_on_connection\u001B[1;34m(self, connection, multiparams, params, execution_options, _force)\u001B[0m\n\u001B[0;32m    321\u001B[0m \u001B[38;5;28;01mdef\u001B[39;00m \u001B[38;5;21m_execute_on_connection\u001B[39m(\n\u001B[0;32m    322\u001B[0m     \u001B[38;5;28mself\u001B[39m, connection, multiparams, params, execution_options, _force\u001B[38;5;241m=\u001B[39m\u001B[38;5;28;01mFalse\u001B[39;00m\n\u001B[0;32m    323\u001B[0m ):\n\u001B[0;32m    324\u001B[0m     \u001B[38;5;28;01mif\u001B[39;00m _force \u001B[38;5;129;01mor\u001B[39;00m \u001B[38;5;28mself\u001B[39m\u001B[38;5;241m.\u001B[39msupports_execution:\n\u001B[1;32m--> 325\u001B[0m         \u001B[38;5;28;01mreturn\u001B[39;00m \u001B[43mconnection\u001B[49m\u001B[38;5;241;43m.\u001B[39;49m\u001B[43m_execute_clauseelement\u001B[49m\u001B[43m(\u001B[49m\n\u001B[0;32m    326\u001B[0m \u001B[43m            \u001B[49m\u001B[38;5;28;43mself\u001B[39;49m\u001B[43m,\u001B[49m\u001B[43m \u001B[49m\u001B[43mmultiparams\u001B[49m\u001B[43m,\u001B[49m\u001B[43m \u001B[49m\u001B[43mparams\u001B[49m\u001B[43m,\u001B[49m\u001B[43m \u001B[49m\u001B[43mexecution_options\u001B[49m\n\u001B[0;32m    327\u001B[0m \u001B[43m        \u001B[49m\u001B[43m)\u001B[49m\n\u001B[0;32m    328\u001B[0m     \u001B[38;5;28;01melse\u001B[39;00m:\n\u001B[0;32m    329\u001B[0m         \u001B[38;5;28;01mraise\u001B[39;00m exc\u001B[38;5;241m.\u001B[39mObjectNotExecutableError(\u001B[38;5;28mself\u001B[39m)\n",
      "File \u001B[1;32m~\\scoop\\apps\\anaconda3\\current\\envs\\flask\\lib\\site-packages\\sqlalchemy\\engine\\base.py:1487\u001B[0m, in \u001B[0;36mConnection._execute_clauseelement\u001B[1;34m(self, elem, multiparams, params, execution_options)\u001B[0m\n\u001B[0;32m   1475\u001B[0m compiled_cache \u001B[38;5;241m=\u001B[39m execution_options\u001B[38;5;241m.\u001B[39mget(\n\u001B[0;32m   1476\u001B[0m     \u001B[38;5;124m\"\u001B[39m\u001B[38;5;124mcompiled_cache\u001B[39m\u001B[38;5;124m\"\u001B[39m, \u001B[38;5;28mself\u001B[39m\u001B[38;5;241m.\u001B[39mengine\u001B[38;5;241m.\u001B[39m_compiled_cache\n\u001B[0;32m   1477\u001B[0m )\n\u001B[0;32m   1479\u001B[0m compiled_sql, extracted_params, cache_hit \u001B[38;5;241m=\u001B[39m elem\u001B[38;5;241m.\u001B[39m_compile_w_cache(\n\u001B[0;32m   1480\u001B[0m     dialect\u001B[38;5;241m=\u001B[39mdialect,\n\u001B[0;32m   1481\u001B[0m     compiled_cache\u001B[38;5;241m=\u001B[39mcompiled_cache,\n\u001B[1;32m   (...)\u001B[0m\n\u001B[0;32m   1485\u001B[0m     linting\u001B[38;5;241m=\u001B[39m\u001B[38;5;28mself\u001B[39m\u001B[38;5;241m.\u001B[39mdialect\u001B[38;5;241m.\u001B[39mcompiler_linting \u001B[38;5;241m|\u001B[39m compiler\u001B[38;5;241m.\u001B[39mWARN_LINTING,\n\u001B[0;32m   1486\u001B[0m )\n\u001B[1;32m-> 1487\u001B[0m ret \u001B[38;5;241m=\u001B[39m \u001B[38;5;28;43mself\u001B[39;49m\u001B[38;5;241;43m.\u001B[39;49m\u001B[43m_execute_context\u001B[49m\u001B[43m(\u001B[49m\n\u001B[0;32m   1488\u001B[0m \u001B[43m    \u001B[49m\u001B[43mdialect\u001B[49m\u001B[43m,\u001B[49m\n\u001B[0;32m   1489\u001B[0m \u001B[43m    \u001B[49m\u001B[43mdialect\u001B[49m\u001B[38;5;241;43m.\u001B[39;49m\u001B[43mexecution_ctx_cls\u001B[49m\u001B[38;5;241;43m.\u001B[39;49m\u001B[43m_init_compiled\u001B[49m\u001B[43m,\u001B[49m\n\u001B[0;32m   1490\u001B[0m \u001B[43m    \u001B[49m\u001B[43mcompiled_sql\u001B[49m\u001B[43m,\u001B[49m\n\u001B[0;32m   1491\u001B[0m \u001B[43m    \u001B[49m\u001B[43mdistilled_params\u001B[49m\u001B[43m,\u001B[49m\n\u001B[0;32m   1492\u001B[0m \u001B[43m    \u001B[49m\u001B[43mexecution_options\u001B[49m\u001B[43m,\u001B[49m\n\u001B[0;32m   1493\u001B[0m \u001B[43m    \u001B[49m\u001B[43mcompiled_sql\u001B[49m\u001B[43m,\u001B[49m\n\u001B[0;32m   1494\u001B[0m \u001B[43m    \u001B[49m\u001B[43mdistilled_params\u001B[49m\u001B[43m,\u001B[49m\n\u001B[0;32m   1495\u001B[0m \u001B[43m    \u001B[49m\u001B[43melem\u001B[49m\u001B[43m,\u001B[49m\n\u001B[0;32m   1496\u001B[0m \u001B[43m    \u001B[49m\u001B[43mextracted_params\u001B[49m\u001B[43m,\u001B[49m\n\u001B[0;32m   1497\u001B[0m \u001B[43m    \u001B[49m\u001B[43mcache_hit\u001B[49m\u001B[38;5;241;43m=\u001B[39;49m\u001B[43mcache_hit\u001B[49m\u001B[43m,\u001B[49m\n\u001B[0;32m   1498\u001B[0m \u001B[43m\u001B[49m\u001B[43m)\u001B[49m\n\u001B[0;32m   1499\u001B[0m \u001B[38;5;28;01mif\u001B[39;00m has_events:\n\u001B[0;32m   1500\u001B[0m     \u001B[38;5;28mself\u001B[39m\u001B[38;5;241m.\u001B[39mdispatch\u001B[38;5;241m.\u001B[39mafter_execute(\n\u001B[0;32m   1501\u001B[0m         \u001B[38;5;28mself\u001B[39m,\n\u001B[0;32m   1502\u001B[0m         elem,\n\u001B[1;32m   (...)\u001B[0m\n\u001B[0;32m   1506\u001B[0m         ret,\n\u001B[0;32m   1507\u001B[0m     )\n",
      "File \u001B[1;32m~\\scoop\\apps\\anaconda3\\current\\envs\\flask\\lib\\site-packages\\sqlalchemy\\engine\\base.py:1851\u001B[0m, in \u001B[0;36mConnection._execute_context\u001B[1;34m(self, dialect, constructor, statement, parameters, execution_options, *args, **kw)\u001B[0m\n\u001B[0;32m   1848\u001B[0m             branched\u001B[38;5;241m.\u001B[39mclose()\n\u001B[0;32m   1850\u001B[0m \u001B[38;5;28;01mexcept\u001B[39;00m \u001B[38;5;167;01mBaseException\u001B[39;00m \u001B[38;5;28;01mas\u001B[39;00m e:\n\u001B[1;32m-> 1851\u001B[0m     \u001B[38;5;28;43mself\u001B[39;49m\u001B[38;5;241;43m.\u001B[39;49m\u001B[43m_handle_dbapi_exception\u001B[49m\u001B[43m(\u001B[49m\n\u001B[0;32m   1852\u001B[0m \u001B[43m        \u001B[49m\u001B[43me\u001B[49m\u001B[43m,\u001B[49m\u001B[43m \u001B[49m\u001B[43mstatement\u001B[49m\u001B[43m,\u001B[49m\u001B[43m \u001B[49m\u001B[43mparameters\u001B[49m\u001B[43m,\u001B[49m\u001B[43m \u001B[49m\u001B[43mcursor\u001B[49m\u001B[43m,\u001B[49m\u001B[43m \u001B[49m\u001B[43mcontext\u001B[49m\n\u001B[0;32m   1853\u001B[0m \u001B[43m    \u001B[49m\u001B[43m)\u001B[49m\n\u001B[0;32m   1855\u001B[0m \u001B[38;5;28;01mreturn\u001B[39;00m result\n",
      "File \u001B[1;32m~\\scoop\\apps\\anaconda3\\current\\envs\\flask\\lib\\site-packages\\sqlalchemy\\engine\\base.py:2032\u001B[0m, in \u001B[0;36mConnection._handle_dbapi_exception\u001B[1;34m(self, e, statement, parameters, cursor, context)\u001B[0m\n\u001B[0;32m   2030\u001B[0m     util\u001B[38;5;241m.\u001B[39mraise_(newraise, with_traceback\u001B[38;5;241m=\u001B[39mexc_info[\u001B[38;5;241m2\u001B[39m], from_\u001B[38;5;241m=\u001B[39me)\n\u001B[0;32m   2031\u001B[0m \u001B[38;5;28;01melif\u001B[39;00m should_wrap:\n\u001B[1;32m-> 2032\u001B[0m     \u001B[43mutil\u001B[49m\u001B[38;5;241;43m.\u001B[39;49m\u001B[43mraise_\u001B[49m\u001B[43m(\u001B[49m\n\u001B[0;32m   2033\u001B[0m \u001B[43m        \u001B[49m\u001B[43msqlalchemy_exception\u001B[49m\u001B[43m,\u001B[49m\u001B[43m \u001B[49m\u001B[43mwith_traceback\u001B[49m\u001B[38;5;241;43m=\u001B[39;49m\u001B[43mexc_info\u001B[49m\u001B[43m[\u001B[49m\u001B[38;5;241;43m2\u001B[39;49m\u001B[43m]\u001B[49m\u001B[43m,\u001B[49m\u001B[43m \u001B[49m\u001B[43mfrom_\u001B[49m\u001B[38;5;241;43m=\u001B[39;49m\u001B[43me\u001B[49m\n\u001B[0;32m   2034\u001B[0m \u001B[43m    \u001B[49m\u001B[43m)\u001B[49m\n\u001B[0;32m   2035\u001B[0m \u001B[38;5;28;01melse\u001B[39;00m:\n\u001B[0;32m   2036\u001B[0m     util\u001B[38;5;241m.\u001B[39mraise_(exc_info[\u001B[38;5;241m1\u001B[39m], with_traceback\u001B[38;5;241m=\u001B[39mexc_info[\u001B[38;5;241m2\u001B[39m])\n",
      "File \u001B[1;32m~\\scoop\\apps\\anaconda3\\current\\envs\\flask\\lib\\site-packages\\sqlalchemy\\util\\compat.py:207\u001B[0m, in \u001B[0;36mraise_\u001B[1;34m(***failed resolving arguments***)\u001B[0m\n\u001B[0;32m    204\u001B[0m     exception\u001B[38;5;241m.\u001B[39m__cause__ \u001B[38;5;241m=\u001B[39m replace_context\n\u001B[0;32m    206\u001B[0m \u001B[38;5;28;01mtry\u001B[39;00m:\n\u001B[1;32m--> 207\u001B[0m     \u001B[38;5;28;01mraise\u001B[39;00m exception\n\u001B[0;32m    208\u001B[0m \u001B[38;5;28;01mfinally\u001B[39;00m:\n\u001B[0;32m    209\u001B[0m     \u001B[38;5;66;03m# credit to\u001B[39;00m\n\u001B[0;32m    210\u001B[0m     \u001B[38;5;66;03m# https://cosmicpercolator.com/2016/01/13/exception-leaks-in-python-2-and-3/\u001B[39;00m\n\u001B[0;32m    211\u001B[0m     \u001B[38;5;66;03m# as the __traceback__ object creates a cycle\u001B[39;00m\n\u001B[0;32m    212\u001B[0m     \u001B[38;5;28;01mdel\u001B[39;00m exception, replace_context, from_, with_traceback\n",
      "File \u001B[1;32m~\\scoop\\apps\\anaconda3\\current\\envs\\flask\\lib\\site-packages\\sqlalchemy\\engine\\base.py:1808\u001B[0m, in \u001B[0;36mConnection._execute_context\u001B[1;34m(self, dialect, constructor, statement, parameters, execution_options, *args, **kw)\u001B[0m\n\u001B[0;32m   1806\u001B[0m                 \u001B[38;5;28;01mbreak\u001B[39;00m\n\u001B[0;32m   1807\u001B[0m     \u001B[38;5;28;01mif\u001B[39;00m \u001B[38;5;129;01mnot\u001B[39;00m evt_handled:\n\u001B[1;32m-> 1808\u001B[0m         \u001B[38;5;28;43mself\u001B[39;49m\u001B[38;5;241;43m.\u001B[39;49m\u001B[43mdialect\u001B[49m\u001B[38;5;241;43m.\u001B[39;49m\u001B[43mdo_execute\u001B[49m\u001B[43m(\u001B[49m\n\u001B[0;32m   1809\u001B[0m \u001B[43m            \u001B[49m\u001B[43mcursor\u001B[49m\u001B[43m,\u001B[49m\u001B[43m \u001B[49m\u001B[43mstatement\u001B[49m\u001B[43m,\u001B[49m\u001B[43m \u001B[49m\u001B[43mparameters\u001B[49m\u001B[43m,\u001B[49m\u001B[43m \u001B[49m\u001B[43mcontext\u001B[49m\n\u001B[0;32m   1810\u001B[0m \u001B[43m        \u001B[49m\u001B[43m)\u001B[49m\n\u001B[0;32m   1812\u001B[0m \u001B[38;5;28;01mif\u001B[39;00m \u001B[38;5;28mself\u001B[39m\u001B[38;5;241m.\u001B[39m_has_events \u001B[38;5;129;01mor\u001B[39;00m \u001B[38;5;28mself\u001B[39m\u001B[38;5;241m.\u001B[39mengine\u001B[38;5;241m.\u001B[39m_has_events:\n\u001B[0;32m   1813\u001B[0m     \u001B[38;5;28mself\u001B[39m\u001B[38;5;241m.\u001B[39mdispatch\u001B[38;5;241m.\u001B[39mafter_cursor_execute(\n\u001B[0;32m   1814\u001B[0m         \u001B[38;5;28mself\u001B[39m,\n\u001B[0;32m   1815\u001B[0m         cursor,\n\u001B[1;32m   (...)\u001B[0m\n\u001B[0;32m   1819\u001B[0m         context\u001B[38;5;241m.\u001B[39mexecutemany,\n\u001B[0;32m   1820\u001B[0m     )\n",
      "File \u001B[1;32m~\\scoop\\apps\\anaconda3\\current\\envs\\flask\\lib\\site-packages\\sqlalchemy\\engine\\default.py:732\u001B[0m, in \u001B[0;36mDefaultDialect.do_execute\u001B[1;34m(self, cursor, statement, parameters, context)\u001B[0m\n\u001B[0;32m    731\u001B[0m \u001B[38;5;28;01mdef\u001B[39;00m \u001B[38;5;21mdo_execute\u001B[39m(\u001B[38;5;28mself\u001B[39m, cursor, statement, parameters, context\u001B[38;5;241m=\u001B[39m\u001B[38;5;28;01mNone\u001B[39;00m):\n\u001B[1;32m--> 732\u001B[0m     \u001B[43mcursor\u001B[49m\u001B[38;5;241;43m.\u001B[39;49m\u001B[43mexecute\u001B[49m\u001B[43m(\u001B[49m\u001B[43mstatement\u001B[49m\u001B[43m,\u001B[49m\u001B[43m \u001B[49m\u001B[43mparameters\u001B[49m\u001B[43m)\u001B[49m\n",
      "\u001B[1;31mOperationalError\u001B[0m: (sqlite3.OperationalError) no such function: rand\n[SQL: SELECT image.id AS image_id, image.name AS image_name, image.star AS image_star, image.count AS image_count, image.file_url AS image_file_url, image.history_id AS image_history_id, image.tags AS image_tags, image.last_update_date AS image_last_update_date, image.author AS image_author, image.creator_id AS image_creator_id \nFROM image ORDER BY rand()\n LIMIT ? OFFSET ?]\n[parameters: (1, 0)]\n(Background on this error at: https://sqlalche.me/e/14/e3q8)"
     ]
    }
   ],
   "source": [
    "from sqlalchemy import func\n",
    "r = ss.query(Image).order_by(func.random()).first()\n",
    "r.id"
   ],
   "metadata": {
    "collapsed": false
   }
  },
  {
   "cell_type": "code",
   "execution_count": 2,
   "outputs": [],
   "source": [
    "from settings import *"
   ],
   "metadata": {
    "collapsed": false,
    "pycharm": {
     "name": "#%%from\n"
    }
   }
  },
  {
   "cell_type": "code",
   "execution_count": 3,
   "outputs": [],
   "source": [
    "imgs = ss.query(Image).filter(Image.star == -1).all()"
   ],
   "metadata": {
    "collapsed": false
   }
  },
  {
   "cell_type": "code",
   "execution_count": 3,
   "outputs": [],
   "source": [],
   "metadata": {
    "collapsed": false
   }
  },
  {
   "cell_type": "code",
   "execution_count": 4,
   "outputs": [],
   "source": [
    "import os\n",
    "for img in imgs:\n",
    "    if os.path.exists(IMG_PATH + '/' + img.name):\n",
    "        input(str(img.id))\n",
    "        os.remove(IMG_PATH + '/' + img.name)\n",
    "    img.star = 0\n",
    "    img.status = STATUS.DELETED"
   ],
   "metadata": {
    "collapsed": false
   }
  },
  {
   "cell_type": "code",
   "execution_count": 5,
   "outputs": [],
   "source": [
    "ss.commit()"
   ],
   "metadata": {
    "collapsed": false
   }
  },
  {
   "cell_type": "code",
   "execution_count": 12,
   "outputs": [
    {
     "data": {
      "text/plain": "129439"
     },
     "execution_count": 12,
     "metadata": {},
     "output_type": "execute_result"
    }
   ],
   "source": [
    "ss.query(Image).update({'status': STATUS.DELETED})"
   ],
   "metadata": {
    "collapsed": false
   }
  },
  {
   "cell_type": "code",
   "execution_count": 13,
   "outputs": [],
   "source": [
    "ss.commit()"
   ],
   "metadata": {
    "collapsed": false
   }
  },
  {
   "cell_type": "code",
   "execution_count": 14,
   "outputs": [],
   "source": [],
   "metadata": {
    "collapsed": false
   }
  },
  {
   "cell_type": "code",
   "execution_count": 16,
   "outputs": [],
   "source": [
    "from utils import check_exists"
   ],
   "metadata": {
    "collapsed": false
   }
  },
  {
   "cell_type": "code",
   "execution_count": 22,
   "outputs": [],
   "source": [
    "imgs = os.listdir(IMG_PATH)\n",
    "for img in imgs:\n",
    "    check_img = check_exists(Image, name=img)\n",
    "    if check_img:\n",
    "        check_img.status = STATUS.EXISTS\n",
    "    else:\n",
    "        if not img.startswith('yande'):\n",
    "            res = input(img)\n",
    "            if res:\n",
    "                break\n",
    "        os.remove(IMG_PATH + '/' + img)"
   ],
   "metadata": {
    "collapsed": false
   }
  },
  {
   "cell_type": "code",
   "execution_count": 23,
   "outputs": [],
   "source": [
    "ss.commit()\n",
    "\n",
    "\n",
    "\n",
    "\n",
    "\n",
    "\n"
   ],
   "metadata": {
    "collapsed": false
   }
  },
  {
   "cell_type": "code",
   "execution_count": 24,
   "outputs": [],
   "source": [
    "err = ss.query(Image).filter(Image.status == STATUS.DELETED, Image.star > 0)"
   ],
   "metadata": {
    "collapsed": false
   }
  },
  {
   "cell_type": "code",
   "execution_count": 26,
   "outputs": [],
   "source": [
    "for img in err.all():\n",
    "    img.status = STATUS.QUEUING"
   ],
   "metadata": {
    "collapsed": false
   }
  },
  {
   "cell_type": "code",
   "execution_count": 27,
   "outputs": [],
   "source": [
    "ss.commit()"
   ],
   "metadata": {
    "collapsed": false
   }
  },
  {
   "cell_type": "code",
   "execution_count": null,
   "outputs": [],
   "source": [],
   "metadata": {
    "collapsed": false
   }
  }
 ],
 "metadata": {
  "kernelspec": {
   "display_name": "Python 3",
   "language": "python",
   "name": "python3"
  },
  "language_info": {
   "codemirror_mode": {
    "name": "ipython",
    "version": 2
   },
   "file_extension": ".py",
   "mimetype": "text/x-python",
   "name": "python",
   "nbconvert_exporter": "python",
   "pygments_lexer": "ipython2",
   "version": "2.7.6"
  }
 },
 "nbformat": 4,
 "nbformat_minor": 0
}
